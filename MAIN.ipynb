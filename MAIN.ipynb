{
 "cells": [
  {
   "cell_type": "code",
   "execution_count": 12,
   "metadata": {},
   "outputs": [
    {
     "name": "stderr",
     "output_type": "stream",
     "text": [
      "/Users/amelia/opt/anaconda3/lib/python3.7/site-packages/statsmodels/tools/_testing.py:19: FutureWarning: pandas.util.testing is deprecated. Use the functions in the public API at pandas.testing instead.\n",
      "  import pandas.util.testing as tm\n"
     ]
    }
   ],
   "source": [
    "#libraries\n",
    "import pandas as pd\n",
    "import numpy as np\n",
    "import seaborn as sns\n",
    "import os\n",
    "import matplotlib.pyplot as plt\n",
    "from scipy.stats import pearsonr\n",
    "import statsmodels.formula.api as smf\n"
   ]
  },
  {
   "cell_type": "code",
   "execution_count": 34,
   "metadata": {},
   "outputs": [],
   "source": [
    "#function that returns df with info about nulls\n",
    "def missing_data(input_data):\n",
    "    total = input_data.isnull().sum()\n",
    "    percent = (input_data.isnull().sum()/input_data.isnull().count()*100)\n",
    "    table = pd.concat([total, percent], axis=1, keys= ['Total', 'Percent'])\n",
    "    types = []\n",
    "    for col in input_data.columns:\n",
    "        dtype = str(input_data[col].dtype)\n",
    "        types.append(dtype)\n",
    "    table[\"Types\"] = types\n",
    "    return(pd.DataFrame(table))\n",
    "\n",
    "def mape(actual, pred):\n",
    "    #mean absolute percentage error function\n",
    "    actual, pred = np.array(actual), np.array(pred)\n",
    "    return np.mean(np.abs((actual - pred) / actual)) * 100\n"
   ]
  },
  {
   "cell_type": "code",
   "execution_count": 24,
   "metadata": {},
   "outputs": [
    {
     "name": "stdout",
     "output_type": "stream",
     "text": [
      "Collecting pyspark\n",
      "\u001b[?25l  Downloading https://files.pythonhosted.org/packages/0c/66/3cf748ba7cd7c6a4a46ffcc8d062f11ddc24b786c5b82936c857dc13b7bd/pyspark-3.4.1.tar.gz (310.8MB)\n",
      "\u001b[K     |████████████████████████████████| 310.8MB 59kB/s s eta 0:00:01    |██▍                             | 23.1MB 28.1MB/s eta 0:00:11     |████                            | 38.8MB 28.1MB/s eta 0:00:10     |████████▏                       | 78.8MB 31.0MB/s eta 0:00:08     |███████████████                 | 145.8MB 467kB/s eta 0:05:54     |███████████████▏                | 147.7MB 467kB/s eta 0:05:50     |█████████████████               | 165.3MB 467kB/s eta 0:05:12     |████████████████████████        | 232.1MB 34.1MB/s eta 0:00:03     |███████████████████████████▌    | 267.0MB 15.1MB/s eta 0:00:03     |████████████████████████████▉   | 279.8MB 59.8MB/s eta 0:00:01     |███████████████████████████████ | 301.5MB 59.8MB/s eta 0:00:01\n",
      "\u001b[?25hCollecting py4j==0.10.9.7 (from pyspark)\n",
      "\u001b[?25l  Downloading https://files.pythonhosted.org/packages/10/30/a58b32568f1623aaad7db22aa9eafc4c6c194b429ff35bdc55ca2726da47/py4j-0.10.9.7-py2.py3-none-any.whl (200kB)\n",
      "\u001b[K     |████████████████████████████████| 204kB 19.2MB/s eta 0:00:01\n",
      "\u001b[?25hBuilding wheels for collected packages: pyspark\n",
      "  Building wheel for pyspark (setup.py) ... \u001b[?25ldone\n",
      "\u001b[?25h  Created wheel for pyspark: filename=pyspark-3.4.1-py2.py3-none-any.whl size=311285411 sha256=9d1192d9f8294366acb55b786e2dd060e6fbadd27d025d099b4be7db0ef5e7d1\n",
      "  Stored in directory: /Users/amelia/Library/Caches/pip/wheels/7e/4b/a8/30e2caecc11dfe0ee6f6e7d4c0900fa160258508689fed6567\n",
      "Successfully built pyspark\n",
      "Installing collected packages: py4j, pyspark\n",
      "Successfully installed py4j-0.10.9.7 pyspark-3.4.1\n"
     ]
    },
    {
     "name": "stderr",
     "output_type": "stream",
     "text": [
      "/Users/amelia/opt/anaconda3/lib/python3.7/site-packages/pyspark/context.py:317: FutureWarning: Python 3.7 support is deprecated in Spark 3.4.\n",
      "  warnings.warn(\"Python 3.7 support is deprecated in Spark 3.4.\", FutureWarning)\n"
     ]
    }
   ],
   "source": [
    "!pip install pyspark\n",
    "import pyspark.sql.functions as f\n",
    "import pyspark\n",
    "from pyspark.sql import SparkSession\n",
    "spark = SparkSession.builder.appName('Time Series analysis').getOrCreate()"
   ]
  },
  {
   "cell_type": "markdown",
   "metadata": {},
   "source": [
    "# Explore Sephora Data: Using linear regression and data visualization techniques to uncover sephora's toxic products"
   ]
  },
  {
   "cell_type": "markdown",
   "metadata": {},
   "source": [
    "# Talc is an ingredient commonly used in makeup and has 'has raised safety concerns due to potential contamination with asbestos, a toxic mineral'. Is Sephora selling products that contain this toxic ingredient and if so with what success? "
   ]
  },
  {
   "cell_type": "code",
   "execution_count": 57,
   "metadata": {
    "scrolled": true
   },
   "outputs": [
    {
     "name": "stdout",
     "output_type": "stream",
     "text": [
      "done\n",
      "<class 'pandas.core.frame.DataFrame'>\n",
      "RangeIndex: 8494 entries, 0 to 8493\n",
      "Data columns (total 27 columns):\n",
      " #   Column              Non-Null Count  Dtype  \n",
      "---  ------              --------------  -----  \n",
      " 0   product_id          8494 non-null   object \n",
      " 1   product_name        8494 non-null   object \n",
      " 2   brand_id            8494 non-null   int64  \n",
      " 3   brand_name          8494 non-null   object \n",
      " 4   loves_count         8494 non-null   int64  \n",
      " 5   rating              8216 non-null   float64\n",
      " 6   reviews             8216 non-null   float64\n",
      " 7   size                6863 non-null   object \n",
      " 8   variation_type      7050 non-null   object \n",
      " 9   variation_value     6896 non-null   object \n",
      " 10  variation_desc      1250 non-null   object \n",
      " 11  ingredients         7549 non-null   object \n",
      " 12  price_usd           8494 non-null   float64\n",
      " 13  value_price_usd     451 non-null    float64\n",
      " 14  sale_price_usd      270 non-null    float64\n",
      " 15  limited_edition     8494 non-null   int64  \n",
      " 16  new                 8494 non-null   int64  \n",
      " 17  online_only         8494 non-null   int64  \n",
      " 18  out_of_stock        8494 non-null   int64  \n",
      " 19  sephora_exclusive   8494 non-null   int64  \n",
      " 20  highlights          6287 non-null   object \n",
      " 21  primary_category    8494 non-null   object \n",
      " 22  secondary_category  8486 non-null   object \n",
      " 23  tertiary_category   7504 non-null   object \n",
      " 24  child_count         8494 non-null   int64  \n",
      " 25  child_max_price     2754 non-null   float64\n",
      " 26  child_min_price     2754 non-null   float64\n",
      "dtypes: float64(7), int64(8), object(12)\n",
      "memory usage: 1.7+ MB\n"
     ]
    }
   ],
   "source": [
    "#load data\n",
    "df = pd.read_csv('/Users/amelia/Desktop/product_info.csv')\n",
    "print('done')\n",
    "df.info(verbose=True)"
   ]
  },
  {
   "cell_type": "code",
   "execution_count": 8,
   "metadata": {},
   "outputs": [
    {
     "data": {
      "text/html": [
       "<div>\n",
       "<style scoped>\n",
       "    .dataframe tbody tr th:only-of-type {\n",
       "        vertical-align: middle;\n",
       "    }\n",
       "\n",
       "    .dataframe tbody tr th {\n",
       "        vertical-align: top;\n",
       "    }\n",
       "\n",
       "    .dataframe thead th {\n",
       "        text-align: right;\n",
       "    }\n",
       "</style>\n",
       "<table border=\"1\" class=\"dataframe\">\n",
       "  <thead>\n",
       "    <tr style=\"text-align: right;\">\n",
       "      <th></th>\n",
       "      <th>brand_id</th>\n",
       "      <th>loves_count</th>\n",
       "      <th>rating</th>\n",
       "      <th>reviews</th>\n",
       "      <th>price_usd</th>\n",
       "      <th>value_price_usd</th>\n",
       "      <th>sale_price_usd</th>\n",
       "      <th>limited_edition</th>\n",
       "      <th>new</th>\n",
       "      <th>online_only</th>\n",
       "      <th>out_of_stock</th>\n",
       "      <th>sephora_exclusive</th>\n",
       "      <th>child_count</th>\n",
       "      <th>child_max_price</th>\n",
       "      <th>child_min_price</th>\n",
       "    </tr>\n",
       "  </thead>\n",
       "  <tbody>\n",
       "    <tr>\n",
       "      <th>count</th>\n",
       "      <td>8494.000000</td>\n",
       "      <td>8.494000e+03</td>\n",
       "      <td>8216.000000</td>\n",
       "      <td>8216.000000</td>\n",
       "      <td>8494.000000</td>\n",
       "      <td>451.000000</td>\n",
       "      <td>270.000000</td>\n",
       "      <td>8494.000000</td>\n",
       "      <td>8494.000000</td>\n",
       "      <td>8494.000000</td>\n",
       "      <td>8494.000000</td>\n",
       "      <td>8494.000000</td>\n",
       "      <td>8494.000000</td>\n",
       "      <td>2754.000000</td>\n",
       "      <td>2754.000000</td>\n",
       "    </tr>\n",
       "    <tr>\n",
       "      <th>mean</th>\n",
       "      <td>5422.440546</td>\n",
       "      <td>2.917957e+04</td>\n",
       "      <td>4.194513</td>\n",
       "      <td>448.545521</td>\n",
       "      <td>51.655595</td>\n",
       "      <td>91.168537</td>\n",
       "      <td>20.207889</td>\n",
       "      <td>0.070285</td>\n",
       "      <td>0.071698</td>\n",
       "      <td>0.219096</td>\n",
       "      <td>0.073699</td>\n",
       "      <td>0.279374</td>\n",
       "      <td>1.631622</td>\n",
       "      <td>53.792023</td>\n",
       "      <td>39.665802</td>\n",
       "    </tr>\n",
       "    <tr>\n",
       "      <th>std</th>\n",
       "      <td>1709.595957</td>\n",
       "      <td>6.609212e+04</td>\n",
       "      <td>0.516694</td>\n",
       "      <td>1101.982529</td>\n",
       "      <td>53.669234</td>\n",
       "      <td>79.195631</td>\n",
       "      <td>24.327352</td>\n",
       "      <td>0.255642</td>\n",
       "      <td>0.258002</td>\n",
       "      <td>0.413658</td>\n",
       "      <td>0.261296</td>\n",
       "      <td>0.448718</td>\n",
       "      <td>5.379470</td>\n",
       "      <td>58.765894</td>\n",
       "      <td>38.685720</td>\n",
       "    </tr>\n",
       "    <tr>\n",
       "      <th>min</th>\n",
       "      <td>1063.000000</td>\n",
       "      <td>0.000000e+00</td>\n",
       "      <td>1.000000</td>\n",
       "      <td>1.000000</td>\n",
       "      <td>3.000000</td>\n",
       "      <td>0.000000</td>\n",
       "      <td>1.750000</td>\n",
       "      <td>0.000000</td>\n",
       "      <td>0.000000</td>\n",
       "      <td>0.000000</td>\n",
       "      <td>0.000000</td>\n",
       "      <td>0.000000</td>\n",
       "      <td>0.000000</td>\n",
       "      <td>3.000000</td>\n",
       "      <td>3.000000</td>\n",
       "    </tr>\n",
       "    <tr>\n",
       "      <th>25%</th>\n",
       "      <td>5333.000000</td>\n",
       "      <td>3.758000e+03</td>\n",
       "      <td>3.981725</td>\n",
       "      <td>26.000000</td>\n",
       "      <td>25.000000</td>\n",
       "      <td>45.000000</td>\n",
       "      <td>8.000000</td>\n",
       "      <td>0.000000</td>\n",
       "      <td>0.000000</td>\n",
       "      <td>0.000000</td>\n",
       "      <td>0.000000</td>\n",
       "      <td>0.000000</td>\n",
       "      <td>0.000000</td>\n",
       "      <td>22.000000</td>\n",
       "      <td>19.000000</td>\n",
       "    </tr>\n",
       "    <tr>\n",
       "      <th>50%</th>\n",
       "      <td>6157.500000</td>\n",
       "      <td>9.880000e+03</td>\n",
       "      <td>4.289350</td>\n",
       "      <td>122.000000</td>\n",
       "      <td>35.000000</td>\n",
       "      <td>67.000000</td>\n",
       "      <td>14.000000</td>\n",
       "      <td>0.000000</td>\n",
       "      <td>0.000000</td>\n",
       "      <td>0.000000</td>\n",
       "      <td>0.000000</td>\n",
       "      <td>0.000000</td>\n",
       "      <td>0.000000</td>\n",
       "      <td>32.000000</td>\n",
       "      <td>28.000000</td>\n",
       "    </tr>\n",
       "    <tr>\n",
       "      <th>75%</th>\n",
       "      <td>6328.000000</td>\n",
       "      <td>2.684125e+04</td>\n",
       "      <td>4.530525</td>\n",
       "      <td>418.000000</td>\n",
       "      <td>58.000000</td>\n",
       "      <td>108.500000</td>\n",
       "      <td>25.000000</td>\n",
       "      <td>0.000000</td>\n",
       "      <td>0.000000</td>\n",
       "      <td>0.000000</td>\n",
       "      <td>0.000000</td>\n",
       "      <td>1.000000</td>\n",
       "      <td>1.000000</td>\n",
       "      <td>59.000000</td>\n",
       "      <td>42.000000</td>\n",
       "    </tr>\n",
       "    <tr>\n",
       "      <th>max</th>\n",
       "      <td>8020.000000</td>\n",
       "      <td>1.401068e+06</td>\n",
       "      <td>5.000000</td>\n",
       "      <td>21281.000000</td>\n",
       "      <td>1900.000000</td>\n",
       "      <td>617.000000</td>\n",
       "      <td>320.000000</td>\n",
       "      <td>1.000000</td>\n",
       "      <td>1.000000</td>\n",
       "      <td>1.000000</td>\n",
       "      <td>1.000000</td>\n",
       "      <td>1.000000</td>\n",
       "      <td>105.000000</td>\n",
       "      <td>570.000000</td>\n",
       "      <td>400.000000</td>\n",
       "    </tr>\n",
       "  </tbody>\n",
       "</table>\n",
       "</div>"
      ],
      "text/plain": [
       "          brand_id   loves_count       rating       reviews    price_usd  \\\n",
       "count  8494.000000  8.494000e+03  8216.000000   8216.000000  8494.000000   \n",
       "mean   5422.440546  2.917957e+04     4.194513    448.545521    51.655595   \n",
       "std    1709.595957  6.609212e+04     0.516694   1101.982529    53.669234   \n",
       "min    1063.000000  0.000000e+00     1.000000      1.000000     3.000000   \n",
       "25%    5333.000000  3.758000e+03     3.981725     26.000000    25.000000   \n",
       "50%    6157.500000  9.880000e+03     4.289350    122.000000    35.000000   \n",
       "75%    6328.000000  2.684125e+04     4.530525    418.000000    58.000000   \n",
       "max    8020.000000  1.401068e+06     5.000000  21281.000000  1900.000000   \n",
       "\n",
       "       value_price_usd  sale_price_usd  limited_edition          new  \\\n",
       "count       451.000000      270.000000      8494.000000  8494.000000   \n",
       "mean         91.168537       20.207889         0.070285     0.071698   \n",
       "std          79.195631       24.327352         0.255642     0.258002   \n",
       "min           0.000000        1.750000         0.000000     0.000000   \n",
       "25%          45.000000        8.000000         0.000000     0.000000   \n",
       "50%          67.000000       14.000000         0.000000     0.000000   \n",
       "75%         108.500000       25.000000         0.000000     0.000000   \n",
       "max         617.000000      320.000000         1.000000     1.000000   \n",
       "\n",
       "       online_only  out_of_stock  sephora_exclusive  child_count  \\\n",
       "count  8494.000000   8494.000000        8494.000000  8494.000000   \n",
       "mean      0.219096      0.073699           0.279374     1.631622   \n",
       "std       0.413658      0.261296           0.448718     5.379470   \n",
       "min       0.000000      0.000000           0.000000     0.000000   \n",
       "25%       0.000000      0.000000           0.000000     0.000000   \n",
       "50%       0.000000      0.000000           0.000000     0.000000   \n",
       "75%       0.000000      0.000000           1.000000     1.000000   \n",
       "max       1.000000      1.000000           1.000000   105.000000   \n",
       "\n",
       "       child_max_price  child_min_price  \n",
       "count      2754.000000      2754.000000  \n",
       "mean         53.792023        39.665802  \n",
       "std          58.765894        38.685720  \n",
       "min           3.000000         3.000000  \n",
       "25%          22.000000        19.000000  \n",
       "50%          32.000000        28.000000  \n",
       "75%          59.000000        42.000000  \n",
       "max         570.000000       400.000000  "
      ]
     },
     "execution_count": 8,
     "metadata": {},
     "output_type": "execute_result"
    }
   ],
   "source": [
    "#visualize data\n",
    "df.describe()"
   ]
  },
  {
   "cell_type": "code",
   "execution_count": 111,
   "metadata": {},
   "outputs": [
    {
     "data": {
      "text/plain": [
       "(8494, 34)"
      ]
     },
     "execution_count": 111,
     "metadata": {},
     "output_type": "execute_result"
    }
   ],
   "source": [
    "df.shape"
   ]
  },
  {
   "cell_type": "code",
   "execution_count": 13,
   "metadata": {},
   "outputs": [],
   "source": [
    "#visualize and aggregate data\n",
    "brandnames = df.groupby('brand_name').count()"
   ]
  },
  {
   "cell_type": "code",
   "execution_count": 14,
   "metadata": {},
   "outputs": [
    {
     "data": {
      "text/html": [
       "<div>\n",
       "<style scoped>\n",
       "    .dataframe tbody tr th:only-of-type {\n",
       "        vertical-align: middle;\n",
       "    }\n",
       "\n",
       "    .dataframe tbody tr th {\n",
       "        vertical-align: top;\n",
       "    }\n",
       "\n",
       "    .dataframe thead th {\n",
       "        text-align: right;\n",
       "    }\n",
       "</style>\n",
       "<table border=\"1\" class=\"dataframe\">\n",
       "  <thead>\n",
       "    <tr style=\"text-align: right;\">\n",
       "      <th></th>\n",
       "      <th>product_id</th>\n",
       "      <th>product_name</th>\n",
       "      <th>brand_id</th>\n",
       "      <th>loves_count</th>\n",
       "      <th>rating</th>\n",
       "      <th>reviews</th>\n",
       "      <th>size</th>\n",
       "      <th>variation_type</th>\n",
       "      <th>variation_value</th>\n",
       "      <th>variation_desc</th>\n",
       "      <th>...</th>\n",
       "      <th>online_only</th>\n",
       "      <th>out_of_stock</th>\n",
       "      <th>sephora_exclusive</th>\n",
       "      <th>highlights</th>\n",
       "      <th>primary_category</th>\n",
       "      <th>secondary_category</th>\n",
       "      <th>tertiary_category</th>\n",
       "      <th>child_count</th>\n",
       "      <th>child_max_price</th>\n",
       "      <th>child_min_price</th>\n",
       "    </tr>\n",
       "    <tr>\n",
       "      <th>brand_name</th>\n",
       "      <th></th>\n",
       "      <th></th>\n",
       "      <th></th>\n",
       "      <th></th>\n",
       "      <th></th>\n",
       "      <th></th>\n",
       "      <th></th>\n",
       "      <th></th>\n",
       "      <th></th>\n",
       "      <th></th>\n",
       "      <th></th>\n",
       "      <th></th>\n",
       "      <th></th>\n",
       "      <th></th>\n",
       "      <th></th>\n",
       "      <th></th>\n",
       "      <th></th>\n",
       "      <th></th>\n",
       "      <th></th>\n",
       "      <th></th>\n",
       "      <th></th>\n",
       "    </tr>\n",
       "  </thead>\n",
       "  <tbody>\n",
       "    <tr>\n",
       "      <th>19-69</th>\n",
       "      <td>14</td>\n",
       "      <td>14</td>\n",
       "      <td>14</td>\n",
       "      <td>14</td>\n",
       "      <td>14</td>\n",
       "      <td>14</td>\n",
       "      <td>13</td>\n",
       "      <td>13</td>\n",
       "      <td>13</td>\n",
       "      <td>0</td>\n",
       "      <td>...</td>\n",
       "      <td>14</td>\n",
       "      <td>14</td>\n",
       "      <td>14</td>\n",
       "      <td>14</td>\n",
       "      <td>14</td>\n",
       "      <td>14</td>\n",
       "      <td>14</td>\n",
       "      <td>14</td>\n",
       "      <td>7</td>\n",
       "      <td>7</td>\n",
       "    </tr>\n",
       "    <tr>\n",
       "      <th>54 Thrones</th>\n",
       "      <td>4</td>\n",
       "      <td>4</td>\n",
       "      <td>4</td>\n",
       "      <td>4</td>\n",
       "      <td>4</td>\n",
       "      <td>4</td>\n",
       "      <td>2</td>\n",
       "      <td>2</td>\n",
       "      <td>2</td>\n",
       "      <td>0</td>\n",
       "      <td>...</td>\n",
       "      <td>4</td>\n",
       "      <td>4</td>\n",
       "      <td>4</td>\n",
       "      <td>4</td>\n",
       "      <td>4</td>\n",
       "      <td>4</td>\n",
       "      <td>2</td>\n",
       "      <td>4</td>\n",
       "      <td>2</td>\n",
       "      <td>2</td>\n",
       "    </tr>\n",
       "    <tr>\n",
       "      <th>ABBOTT</th>\n",
       "      <td>13</td>\n",
       "      <td>13</td>\n",
       "      <td>13</td>\n",
       "      <td>13</td>\n",
       "      <td>13</td>\n",
       "      <td>13</td>\n",
       "      <td>12</td>\n",
       "      <td>12</td>\n",
       "      <td>12</td>\n",
       "      <td>0</td>\n",
       "      <td>...</td>\n",
       "      <td>13</td>\n",
       "      <td>13</td>\n",
       "      <td>13</td>\n",
       "      <td>13</td>\n",
       "      <td>13</td>\n",
       "      <td>13</td>\n",
       "      <td>13</td>\n",
       "      <td>13</td>\n",
       "      <td>7</td>\n",
       "      <td>7</td>\n",
       "    </tr>\n",
       "    <tr>\n",
       "      <th>AERIN</th>\n",
       "      <td>24</td>\n",
       "      <td>24</td>\n",
       "      <td>24</td>\n",
       "      <td>24</td>\n",
       "      <td>22</td>\n",
       "      <td>22</td>\n",
       "      <td>23</td>\n",
       "      <td>23</td>\n",
       "      <td>23</td>\n",
       "      <td>0</td>\n",
       "      <td>...</td>\n",
       "      <td>24</td>\n",
       "      <td>24</td>\n",
       "      <td>24</td>\n",
       "      <td>16</td>\n",
       "      <td>24</td>\n",
       "      <td>24</td>\n",
       "      <td>23</td>\n",
       "      <td>24</td>\n",
       "      <td>10</td>\n",
       "      <td>10</td>\n",
       "    </tr>\n",
       "    <tr>\n",
       "      <th>ALTERNA Haircare</th>\n",
       "      <td>45</td>\n",
       "      <td>45</td>\n",
       "      <td>45</td>\n",
       "      <td>45</td>\n",
       "      <td>44</td>\n",
       "      <td>44</td>\n",
       "      <td>40</td>\n",
       "      <td>29</td>\n",
       "      <td>26</td>\n",
       "      <td>0</td>\n",
       "      <td>...</td>\n",
       "      <td>45</td>\n",
       "      <td>45</td>\n",
       "      <td>45</td>\n",
       "      <td>24</td>\n",
       "      <td>45</td>\n",
       "      <td>45</td>\n",
       "      <td>44</td>\n",
       "      <td>45</td>\n",
       "      <td>7</td>\n",
       "      <td>7</td>\n",
       "    </tr>\n",
       "    <tr>\n",
       "      <th>...</th>\n",
       "      <td>...</td>\n",
       "      <td>...</td>\n",
       "      <td>...</td>\n",
       "      <td>...</td>\n",
       "      <td>...</td>\n",
       "      <td>...</td>\n",
       "      <td>...</td>\n",
       "      <td>...</td>\n",
       "      <td>...</td>\n",
       "      <td>...</td>\n",
       "      <td>...</td>\n",
       "      <td>...</td>\n",
       "      <td>...</td>\n",
       "      <td>...</td>\n",
       "      <td>...</td>\n",
       "      <td>...</td>\n",
       "      <td>...</td>\n",
       "      <td>...</td>\n",
       "      <td>...</td>\n",
       "      <td>...</td>\n",
       "      <td>...</td>\n",
       "    </tr>\n",
       "    <tr>\n",
       "      <th>philosophy</th>\n",
       "      <td>1</td>\n",
       "      <td>1</td>\n",
       "      <td>1</td>\n",
       "      <td>1</td>\n",
       "      <td>0</td>\n",
       "      <td>0</td>\n",
       "      <td>1</td>\n",
       "      <td>1</td>\n",
       "      <td>1</td>\n",
       "      <td>0</td>\n",
       "      <td>...</td>\n",
       "      <td>1</td>\n",
       "      <td>1</td>\n",
       "      <td>1</td>\n",
       "      <td>0</td>\n",
       "      <td>1</td>\n",
       "      <td>1</td>\n",
       "      <td>0</td>\n",
       "      <td>1</td>\n",
       "      <td>0</td>\n",
       "      <td>0</td>\n",
       "    </tr>\n",
       "    <tr>\n",
       "      <th>rms beauty</th>\n",
       "      <td>11</td>\n",
       "      <td>11</td>\n",
       "      <td>11</td>\n",
       "      <td>11</td>\n",
       "      <td>11</td>\n",
       "      <td>11</td>\n",
       "      <td>10</td>\n",
       "      <td>11</td>\n",
       "      <td>11</td>\n",
       "      <td>9</td>\n",
       "      <td>...</td>\n",
       "      <td>11</td>\n",
       "      <td>11</td>\n",
       "      <td>11</td>\n",
       "      <td>11</td>\n",
       "      <td>11</td>\n",
       "      <td>11</td>\n",
       "      <td>10</td>\n",
       "      <td>11</td>\n",
       "      <td>9</td>\n",
       "      <td>9</td>\n",
       "    </tr>\n",
       "    <tr>\n",
       "      <th>shu uemura</th>\n",
       "      <td>43</td>\n",
       "      <td>43</td>\n",
       "      <td>43</td>\n",
       "      <td>43</td>\n",
       "      <td>43</td>\n",
       "      <td>43</td>\n",
       "      <td>43</td>\n",
       "      <td>43</td>\n",
       "      <td>43</td>\n",
       "      <td>0</td>\n",
       "      <td>...</td>\n",
       "      <td>43</td>\n",
       "      <td>43</td>\n",
       "      <td>43</td>\n",
       "      <td>43</td>\n",
       "      <td>43</td>\n",
       "      <td>43</td>\n",
       "      <td>43</td>\n",
       "      <td>43</td>\n",
       "      <td>4</td>\n",
       "      <td>4</td>\n",
       "    </tr>\n",
       "    <tr>\n",
       "      <th>stila</th>\n",
       "      <td>11</td>\n",
       "      <td>11</td>\n",
       "      <td>11</td>\n",
       "      <td>11</td>\n",
       "      <td>10</td>\n",
       "      <td>10</td>\n",
       "      <td>11</td>\n",
       "      <td>11</td>\n",
       "      <td>11</td>\n",
       "      <td>7</td>\n",
       "      <td>...</td>\n",
       "      <td>11</td>\n",
       "      <td>11</td>\n",
       "      <td>11</td>\n",
       "      <td>10</td>\n",
       "      <td>11</td>\n",
       "      <td>11</td>\n",
       "      <td>10</td>\n",
       "      <td>11</td>\n",
       "      <td>7</td>\n",
       "      <td>7</td>\n",
       "    </tr>\n",
       "    <tr>\n",
       "      <th>tarte</th>\n",
       "      <td>131</td>\n",
       "      <td>131</td>\n",
       "      <td>131</td>\n",
       "      <td>131</td>\n",
       "      <td>126</td>\n",
       "      <td>126</td>\n",
       "      <td>101</td>\n",
       "      <td>108</td>\n",
       "      <td>105</td>\n",
       "      <td>44</td>\n",
       "      <td>...</td>\n",
       "      <td>131</td>\n",
       "      <td>131</td>\n",
       "      <td>131</td>\n",
       "      <td>79</td>\n",
       "      <td>131</td>\n",
       "      <td>131</td>\n",
       "      <td>110</td>\n",
       "      <td>131</td>\n",
       "      <td>59</td>\n",
       "      <td>59</td>\n",
       "    </tr>\n",
       "  </tbody>\n",
       "</table>\n",
       "<p>304 rows × 26 columns</p>\n",
       "</div>"
      ],
      "text/plain": [
       "                  product_id  product_name  brand_id  loves_count  rating  \\\n",
       "brand_name                                                                  \n",
       "19-69                     14            14        14           14      14   \n",
       "54 Thrones                 4             4         4            4       4   \n",
       "ABBOTT                    13            13        13           13      13   \n",
       "AERIN                     24            24        24           24      22   \n",
       "ALTERNA Haircare          45            45        45           45      44   \n",
       "...                      ...           ...       ...          ...     ...   \n",
       "philosophy                 1             1         1            1       0   \n",
       "rms beauty                11            11        11           11      11   \n",
       "shu uemura                43            43        43           43      43   \n",
       "stila                     11            11        11           11      10   \n",
       "tarte                    131           131       131          131     126   \n",
       "\n",
       "                  reviews  size  variation_type  variation_value  \\\n",
       "brand_name                                                         \n",
       "19-69                  14    13              13               13   \n",
       "54 Thrones              4     2               2                2   \n",
       "ABBOTT                 13    12              12               12   \n",
       "AERIN                  22    23              23               23   \n",
       "ALTERNA Haircare       44    40              29               26   \n",
       "...                   ...   ...             ...              ...   \n",
       "philosophy              0     1               1                1   \n",
       "rms beauty             11    10              11               11   \n",
       "shu uemura             43    43              43               43   \n",
       "stila                  10    11              11               11   \n",
       "tarte                 126   101             108              105   \n",
       "\n",
       "                  variation_desc  ...  online_only  out_of_stock  \\\n",
       "brand_name                        ...                              \n",
       "19-69                          0  ...           14            14   \n",
       "54 Thrones                     0  ...            4             4   \n",
       "ABBOTT                         0  ...           13            13   \n",
       "AERIN                          0  ...           24            24   \n",
       "ALTERNA Haircare               0  ...           45            45   \n",
       "...                          ...  ...          ...           ...   \n",
       "philosophy                     0  ...            1             1   \n",
       "rms beauty                     9  ...           11            11   \n",
       "shu uemura                     0  ...           43            43   \n",
       "stila                          7  ...           11            11   \n",
       "tarte                         44  ...          131           131   \n",
       "\n",
       "                  sephora_exclusive  highlights  primary_category  \\\n",
       "brand_name                                                          \n",
       "19-69                            14          14                14   \n",
       "54 Thrones                        4           4                 4   \n",
       "ABBOTT                           13          13                13   \n",
       "AERIN                            24          16                24   \n",
       "ALTERNA Haircare                 45          24                45   \n",
       "...                             ...         ...               ...   \n",
       "philosophy                        1           0                 1   \n",
       "rms beauty                       11          11                11   \n",
       "shu uemura                       43          43                43   \n",
       "stila                            11          10                11   \n",
       "tarte                           131          79               131   \n",
       "\n",
       "                  secondary_category  tertiary_category  child_count  \\\n",
       "brand_name                                                             \n",
       "19-69                             14                 14           14   \n",
       "54 Thrones                         4                  2            4   \n",
       "ABBOTT                            13                 13           13   \n",
       "AERIN                             24                 23           24   \n",
       "ALTERNA Haircare                  45                 44           45   \n",
       "...                              ...                ...          ...   \n",
       "philosophy                         1                  0            1   \n",
       "rms beauty                        11                 10           11   \n",
       "shu uemura                        43                 43           43   \n",
       "stila                             11                 10           11   \n",
       "tarte                            131                110          131   \n",
       "\n",
       "                  child_max_price  child_min_price  \n",
       "brand_name                                          \n",
       "19-69                           7                7  \n",
       "54 Thrones                      2                2  \n",
       "ABBOTT                          7                7  \n",
       "AERIN                          10               10  \n",
       "ALTERNA Haircare                7                7  \n",
       "...                           ...              ...  \n",
       "philosophy                      0                0  \n",
       "rms beauty                      9                9  \n",
       "shu uemura                      4                4  \n",
       "stila                           7                7  \n",
       "tarte                          59               59  \n",
       "\n",
       "[304 rows x 26 columns]"
      ]
     },
     "execution_count": 14,
     "metadata": {},
     "output_type": "execute_result"
    }
   ],
   "source": [
    "brandnames"
   ]
  },
  {
   "cell_type": "code",
   "execution_count": 18,
   "metadata": {},
   "outputs": [
    {
     "data": {
      "text/plain": [
       "brand_name\n",
       "19-69               True\n",
       "54 Thrones          True\n",
       "ABBOTT              True\n",
       "AERIN               True\n",
       "ALTERNA Haircare    True\n",
       "                    ... \n",
       "philosophy          True\n",
       "rms beauty          True\n",
       "shu uemura          True\n",
       "stila               True\n",
       "tarte               True\n",
       "Name: out_of_stock, Length: 304, dtype: bool"
      ]
     },
     "execution_count": 18,
     "metadata": {},
     "output_type": "execute_result"
    }
   ],
   "source": [
    "#convert to boolean\n",
    "brandnames['out_of_stock'] = brandnames['out_of_stock'].astype(bool)\n",
    "brandnames['out_of_stock'] "
   ]
  },
  {
   "cell_type": "code",
   "execution_count": 58,
   "metadata": {},
   "outputs": [
    {
     "name": "stdout",
     "output_type": "stream",
     "text": [
      "0       ['Capri Eau de Parfum:', 'Alcohol Denat. (SD A...\n",
      "1       ['Alcohol Denat. (SD Alcohol 39C), Parfum (Fra...\n",
      "2       ['Alcohol Denat. (SD Alcohol 39C), Parfum (Fra...\n",
      "3       ['Alcohol Denat. (SD Alcohol 39C), Parfum (Fra...\n",
      "4       ['Alcohol Denat. (SD Alcohol 39C), Parfum (Fra...\n",
      "                              ...                        \n",
      "8489    ['Talc, Synthetic Fluorphlogopite, Triethylhex...\n",
      "8490    ['Alcohol, Aqua / Water / Eau, Parfum / Fragra...\n",
      "8491    ['Mon Paris Eau de Parfum:', 'Alcohol, Parfum/...\n",
      "8492    ['Alcohol, Parfum/Fragrance, Aqua/Water, Limon...\n",
      "8493    ['Diisostearyl Malate, Bis-Behenyl/Isostearyl/...\n",
      "Name: ingredients, Length: 8494, dtype: object\n"
     ]
    }
   ],
   "source": [
    "#visualize ingredients\n",
    "print(df['ingredients'])"
   ]
  },
  {
   "cell_type": "code",
   "execution_count": 115,
   "metadata": {},
   "outputs": [
    {
     "data": {
      "text/plain": [
       "(426, 34)"
      ]
     },
     "execution_count": 115,
     "metadata": {},
     "output_type": "execute_result"
    }
   ],
   "source": [
    "#select products with talc in ingredients\n",
    "df['talc'] = df['ingredients'].str.contains('Talc')\n",
    "df_withtalc = df[df['talc']==True]\n",
    "df_withtalc.shape"
   ]
  },
  {
   "cell_type": "code",
   "execution_count": 112,
   "metadata": {},
   "outputs": [
    {
     "data": {
      "text/plain": [
       "(209, 34)"
      ]
     },
     "execution_count": 112,
     "metadata": {},
     "output_type": "execute_result"
    }
   ],
   "source": [
    "#select products with talc in ingredients\n",
    "df['sulfate'] = df['ingredients'].str.contains('sulfate')\n",
    "df_withsulfate = df[df['sulfate']==True]\n",
    "df_withsulfate.shape"
   ]
  },
  {
   "cell_type": "code",
   "execution_count": 77,
   "metadata": {},
   "outputs": [
    {
     "data": {
      "image/png": "[encoded data removed]",
      "text/plain": [
       "<Figure size 432x288 with 1 Axes>"
      ]
     },
     "metadata": {
      "needs_background": "light"
     },
     "output_type": "display_data"
    }
   ],
   "source": [
    "#explore talc product popularity\n",
    "df_withtalc.hist('rating')\n",
    "plt.show()"
   ]
  },
  {
   "cell_type": "code",
   "execution_count": 88,
   "metadata": {},
   "outputs": [
    {
     "data": {
      "image/png": "[encoded data removed]",
      "text/plain": [
       "<Figure size 432x288 with 1 Axes>"
      ]
     },
     "metadata": {
      "needs_background": "light"
     },
     "output_type": "display_data"
    }
   ],
   "source": [
    "#explore talc product popularity\n",
    "df_withtalc.hist('price_usd')\n",
    "plt.show()"
   ]
  },
  {
   "cell_type": "code",
   "execution_count": 89,
   "metadata": {},
   "outputs": [
    {
     "data": {
      "image/png": "[encoded data removed]",
      "text/plain": [
       "<Figure size 432x288 with 1 Axes>"
      ]
     },
     "metadata": {
      "needs_background": "light"
     },
     "output_type": "display_data"
    }
   ],
   "source": [
    "#explore sulfate product popularity\n",
    "df_withsulfate.hist('rating')\n",
    "plt.show()"
   ]
  },
  {
   "cell_type": "code",
   "execution_count": 90,
   "metadata": {},
   "outputs": [
    {
     "data": {
      "image/png": "[encoded data removed]",
      "text/plain": [
       "<Figure size 432x288 with 1 Axes>"
      ]
     },
     "metadata": {
      "needs_background": "light"
     },
     "output_type": "display_data"
    }
   ],
   "source": [
    "#explore sulfate product popularity\n",
    "df_withsulfate.hist('price_usd')\n",
    "plt.show()"
   ]
  },
  {
   "cell_type": "code",
   "execution_count": 78,
   "metadata": {},
   "outputs": [
    {
     "data": {
      "image/png": "[encoded data removed]",
      "text/plain": [
       "<Figure size 432x288 with 1 Axes>"
      ]
     },
     "metadata": {
      "needs_background": "light"
     },
     "output_type": "display_data"
    }
   ],
   "source": [
    "df_withtalc.hist('loves_count')\n",
    "plt.show()"
   ]
  },
  {
   "cell_type": "code",
   "execution_count": 91,
   "metadata": {},
   "outputs": [
    {
     "data": {
      "image/png": "[encoded data removed]",
      "text/plain": [
       "<Figure size 432x288 with 1 Axes>"
      ]
     },
     "metadata": {
      "needs_background": "light"
     },
     "output_type": "display_data"
    }
   ],
   "source": [
    "#explore sulfate product popularity\n",
    "df_withsulfate.hist('loves_count')\n",
    "plt.show()"
   ]
  },
  {
   "cell_type": "code",
   "execution_count": 83,
   "metadata": {},
   "outputs": [
    {
     "data": {
      "text/html": [
       "<div>\n",
       "<style scoped>\n",
       "    .dataframe tbody tr th:only-of-type {\n",
       "        vertical-align: middle;\n",
       "    }\n",
       "\n",
       "    .dataframe tbody tr th {\n",
       "        vertical-align: top;\n",
       "    }\n",
       "\n",
       "    .dataframe thead th {\n",
       "        text-align: right;\n",
       "    }\n",
       "</style>\n",
       "<table border=\"1\" class=\"dataframe\">\n",
       "  <thead>\n",
       "    <tr style=\"text-align: right;\">\n",
       "      <th></th>\n",
       "      <th>brand_name</th>\n",
       "      <th>loves_count</th>\n",
       "      <th>rating</th>\n",
       "      <th>price_usd</th>\n",
       "      <th>reviews</th>\n",
       "    </tr>\n",
       "  </thead>\n",
       "  <tbody>\n",
       "    <tr>\n",
       "      <th>0</th>\n",
       "      <td>MAKE UP FOR EVER</td>\n",
       "      <td>211306.666667</td>\n",
       "      <td>4.360733</td>\n",
       "      <td>22.000000</td>\n",
       "      <td>715.666667</td>\n",
       "    </tr>\n",
       "    <tr>\n",
       "      <th>1</th>\n",
       "      <td>Fenty Beauty by Rihanna</td>\n",
       "      <td>184809.619048</td>\n",
       "      <td>4.020710</td>\n",
       "      <td>29.523810</td>\n",
       "      <td>1729.476190</td>\n",
       "    </tr>\n",
       "    <tr>\n",
       "      <th>2</th>\n",
       "      <td>Urban Decay</td>\n",
       "      <td>132202.058824</td>\n",
       "      <td>4.223741</td>\n",
       "      <td>34.000000</td>\n",
       "      <td>1609.470588</td>\n",
       "    </tr>\n",
       "    <tr>\n",
       "      <th>3</th>\n",
       "      <td>beautyblender</td>\n",
       "      <td>126259.000000</td>\n",
       "      <td>4.074000</td>\n",
       "      <td>29.000000</td>\n",
       "      <td>3042.000000</td>\n",
       "    </tr>\n",
       "    <tr>\n",
       "      <th>4</th>\n",
       "      <td>NARS</td>\n",
       "      <td>114233.266667</td>\n",
       "      <td>4.192153</td>\n",
       "      <td>32.266667</td>\n",
       "      <td>2065.200000</td>\n",
       "    </tr>\n",
       "  </tbody>\n",
       "</table>\n",
       "</div>"
      ],
      "text/plain": [
       "                brand_name    loves_count    rating  price_usd      reviews\n",
       "0         MAKE UP FOR EVER  211306.666667  4.360733  22.000000   715.666667\n",
       "1  Fenty Beauty by Rihanna  184809.619048  4.020710  29.523810  1729.476190\n",
       "2              Urban Decay  132202.058824  4.223741  34.000000  1609.470588\n",
       "3            beautyblender  126259.000000  4.074000  29.000000  3042.000000\n",
       "4                     NARS  114233.266667  4.192153  32.266667  2065.200000"
      ]
     },
     "execution_count": 83,
     "metadata": {},
     "output_type": "execute_result"
    }
   ],
   "source": [
    "brand_stats = df_withtalc.groupby('brand_name')[['loves_count','rating','price_usd','reviews']].mean().sort_values(by=['loves_count','rating'], ascending=False).reset_index()\n",
    "brand_stats.head(5)"
   ]
  },
  {
   "cell_type": "code",
   "execution_count": 59,
   "metadata": {},
   "outputs": [],
   "source": [
    "#plotting data"
   ]
  },
  {
   "cell_type": "code",
   "execution_count": 93,
   "metadata": {},
   "outputs": [
    {
     "data": {
      "text/plain": [
       "(62, 5)"
      ]
     },
     "execution_count": 93,
     "metadata": {},
     "output_type": "execute_result"
    }
   ],
   "source": [
    "brand_stats.shape"
   ]
  },
  {
   "cell_type": "code",
   "execution_count": 97,
   "metadata": {},
   "outputs": [
    {
     "data": {
      "image/png": "[encoded data removed]",
      "text/plain": [
       "<Figure size 432x288 with 1 Axes>"
      ]
     },
     "metadata": {
      "needs_background": "light"
     },
     "output_type": "display_data"
    }
   ],
   "source": [
    "df.plot()\n",
    "plt.grid()\n",
    "plt.xlabel('')\n",
    "plt.ylabel('')\n",
    "plt.show()"
   ]
  },
  {
   "cell_type": "code",
   "execution_count": 99,
   "metadata": {},
   "outputs": [
    {
     "data": {
      "image/png": "[encoded data removed]",
      "text/plain": [
       "<Figure size 432x288 with 1 Axes>"
      ]
     },
     "metadata": {
      "needs_background": "light"
     },
     "output_type": "display_data"
    }
   ],
   "source": [
    "df_withtalc.plot()\n",
    "plt.grid()\n",
    "plt.xlabel('')\n",
    "plt.ylabel('')\n",
    "plt.show()"
   ]
  },
  {
   "cell_type": "code",
   "execution_count": null,
   "metadata": {},
   "outputs": [],
   "source": [
    "#select products with talc in ingredients\n",
    "df['talc'] = df['ingredients'].str.contains('Talc')\n",
    "df_withtalc = df[df['talc']==True]\n"
   ]
  },
  {
   "cell_type": "code",
   "execution_count": 130,
   "metadata": {},
   "outputs": [
    {
     "name": "stderr",
     "output_type": "stream",
     "text": [
      "/Users/amelia/opt/anaconda3/lib/python3.7/site-packages/ipykernel_launcher.py:2: SettingWithCopyWarning: \n",
      "A value is trying to be set on a copy of a slice from a DataFrame.\n",
      "Try using .loc[row_indexer,col_indexer] = value instead\n",
      "\n",
      "See the caveats in the documentation: https://pandas.pydata.org/pandas-docs/stable/user_guide/indexing.html#returning-a-view-versus-a-copy\n",
      "  \n"
     ]
    },
    {
     "data": {
      "text/html": [
       "<div>\n",
       "<style scoped>\n",
       "    .dataframe tbody tr th:only-of-type {\n",
       "        vertical-align: middle;\n",
       "    }\n",
       "\n",
       "    .dataframe tbody tr th {\n",
       "        vertical-align: top;\n",
       "    }\n",
       "\n",
       "    .dataframe thead th {\n",
       "        text-align: right;\n",
       "    }\n",
       "</style>\n",
       "<table border=\"1\" class=\"dataframe\">\n",
       "  <thead>\n",
       "    <tr style=\"text-align: right;\">\n",
       "      <th></th>\n",
       "      <th>is_TALC</th>\n",
       "      <th>ingredients</th>\n",
       "    </tr>\n",
       "  </thead>\n",
       "  <tbody>\n",
       "    <tr>\n",
       "      <th>253</th>\n",
       "      <td>True</td>\n",
       "      <td>['Java, Vanilla, Fawn, Havana, and Banana:', '...</td>\n",
       "    </tr>\n",
       "    <tr>\n",
       "      <th>256</th>\n",
       "      <td>True</td>\n",
       "      <td>['Bronzed, Tourmaline:', 'Mica, Synthetic Fluo...</td>\n",
       "    </tr>\n",
       "    <tr>\n",
       "      <th>258</th>\n",
       "      <td>True</td>\n",
       "      <td>['Talc, Boron Nitride, Nylon-12, Ethylhexyl Pa...</td>\n",
       "    </tr>\n",
       "    <tr>\n",
       "      <th>261</th>\n",
       "      <td>True</td>\n",
       "      <td>['Marshmallow:', 'Talc, Ethylhexyl Palmitate, ...</td>\n",
       "    </tr>\n",
       "    <tr>\n",
       "      <th>267</th>\n",
       "      <td>True</td>\n",
       "      <td>['Isododecane, Talc, Trimethylsiloxysilicate, ...</td>\n",
       "    </tr>\n",
       "    <tr>\n",
       "      <th>...</th>\n",
       "      <td>...</td>\n",
       "      <td>...</td>\n",
       "    </tr>\n",
       "    <tr>\n",
       "      <th>8366</th>\n",
       "      <td>True</td>\n",
       "      <td>['Synthetic Fluorphlogopite, Talc, Mica, Octyl...</td>\n",
       "    </tr>\n",
       "    <tr>\n",
       "      <th>8431</th>\n",
       "      <td>True</td>\n",
       "      <td>['Aqua / Water / Eau, Cyclopentasiloxane, Talc...</td>\n",
       "    </tr>\n",
       "    <tr>\n",
       "      <th>8441</th>\n",
       "      <td>True</td>\n",
       "      <td>['Dimethicone, Bis-Diglyceryl Polyacyladipate-...</td>\n",
       "    </tr>\n",
       "    <tr>\n",
       "      <th>8469</th>\n",
       "      <td>True</td>\n",
       "      <td>['Talc, Mica, Ci 77891 / Titanium Dioxide, Cap...</td>\n",
       "    </tr>\n",
       "    <tr>\n",
       "      <th>8489</th>\n",
       "      <td>True</td>\n",
       "      <td>['Talc, Synthetic Fluorphlogopite, Triethylhex...</td>\n",
       "    </tr>\n",
       "  </tbody>\n",
       "</table>\n",
       "<p>426 rows × 2 columns</p>\n",
       "</div>"
      ],
      "text/plain": [
       "     is_TALC                                        ingredients\n",
       "253     True  ['Java, Vanilla, Fawn, Havana, and Banana:', '...\n",
       "256     True  ['Bronzed, Tourmaline:', 'Mica, Synthetic Fluo...\n",
       "258     True  ['Talc, Boron Nitride, Nylon-12, Ethylhexyl Pa...\n",
       "261     True  ['Marshmallow:', 'Talc, Ethylhexyl Palmitate, ...\n",
       "267     True  ['Isododecane, Talc, Trimethylsiloxysilicate, ...\n",
       "...      ...                                                ...\n",
       "8366    True  ['Synthetic Fluorphlogopite, Talc, Mica, Octyl...\n",
       "8431    True  ['Aqua / Water / Eau, Cyclopentasiloxane, Talc...\n",
       "8441    True  ['Dimethicone, Bis-Diglyceryl Polyacyladipate-...\n",
       "8469    True  ['Talc, Mica, Ci 77891 / Titanium Dioxide, Cap...\n",
       "8489    True  ['Talc, Synthetic Fluorphlogopite, Triethylhex...\n",
       "\n",
       "[426 rows x 2 columns]"
      ]
     },
     "execution_count": 130,
     "metadata": {},
     "output_type": "execute_result"
    }
   ],
   "source": [
    "#turn into boolean value\n",
    "df_withtalc['is_TALC'] = df['ingredients'].str.contains('Talc')\n",
    "df_withtalc.query(\"ingredients!=talc\")[['is_TALC', 'ingredients']] "
   ]
  },
  {
   "cell_type": "code",
   "execution_count": 142,
   "metadata": {},
   "outputs": [
    {
     "name": "stdout",
     "output_type": "stream",
     "text": [
      "Here is the list of company names with products containing talc. Recognize any?\n"
     ]
    },
    {
     "data": {
      "text/plain": [
       "array(['Anastasia Beverly Hills', 'Armani Beauty', 'Artist Couture',\n",
       "       'beautyblender', 'Benefit Cosmetics', 'Bobbi Brown',\n",
       "       'Bumble and bumble', 'Buxom', 'Charlotte Tilbury', 'CLINIQUE',\n",
       "       'COLOR WOW', 'DAMDAM', 'Danessa Myricks Beauty', 'Dior',\n",
       "       'DOMINIQUE COSMETICS', 'Donna Karan', 'Dr. Barbara Sturm',\n",
       "       'Dr. Jart+', 'Drybar', 'Estée Lauder', 'Fashion Fair',\n",
       "       'Fenty Beauty by Rihanna', 'Givenchy', 'Gucci', 'GUERLAIN',\n",
       "       'HAUS LABS BY LADY GAGA', 'Hourglass', 'HUDA BEAUTY',\n",
       "       'Iconic London', 'IT Cosmetics', 'Kaja', 'Koh Gen Do',\n",
       "       'KVD Beauty', 'Lancôme', 'Laura Mercier', 'lilah b.',\n",
       "       'MAKE UP FOR EVER', 'MAKEUP BY MARIO', 'Mario Badescu',\n",
       "       'Melt Cosmetics', 'NARS', 'Natasha Denona', 'NUDESTIX',\n",
       "       'ONE/SIZE by Patrick Starrr', 'PAT McGRATH LABS', 'PATRICK TA',\n",
       "       'Peter Thomas Roth', 'Rare Beauty by Selena Gomez',\n",
       "       'SEPHORA COLLECTION', 'Shiseido', 'Smashbox', 'stila', 'tarte',\n",
       "       'TOM FORD', 'Too Faced', 'Urban Decay', 'Valentino', 'Violet Voss',\n",
       "       'Viseart', 'Wander Beauty', 'Westman Atelier',\n",
       "       'Yves Saint Laurent'], dtype=object)"
      ]
     },
     "execution_count": 142,
     "metadata": {},
     "output_type": "execute_result"
    }
   ],
   "source": [
    "print('Here is the list of company names with products containing talc. Recognize any?')\n",
    "df_withtalc['brand_name'].unique()"
   ]
  },
  {
   "cell_type": "code",
   "execution_count": 138,
   "metadata": {},
   "outputs": [],
   "source": [
    "#OLS linear regression model with statsmodels on talc data\n",
    "import statsmodels.formula.api as smf\n",
    "mod = smf.ols(\"price_usd ~ loves_count + rating\", data=df_withtalc)\n",
    "res = mod.fit()"
   ]
  },
  {
   "cell_type": "code",
   "execution_count": 136,
   "metadata": {},
   "outputs": [
    {
     "name": "stdout",
     "output_type": "stream",
     "text": [
      "                            OLS Regression Results                            \n",
      "==============================================================================\n",
      "Dep. Variable:              price_usd   R-squared:                       0.021\n",
      "Model:                            OLS   Adj. R-squared:                  0.016\n",
      "Method:                 Least Squares   F-statistic:                     4.473\n",
      "Date:                Wed, 29 Nov 2023   Prob (F-statistic):             0.0120\n",
      "Time:                        20:16:24   Log-Likelihood:                -2028.6\n",
      "No. Observations:                 420   AIC:                             4063.\n",
      "Df Residuals:                     417   BIC:                             4075.\n",
      "Df Model:                           2                                         \n",
      "Covariance Type:            nonrobust                                         \n",
      "===============================================================================\n",
      "                  coef    std err          t      P>|t|      [0.025      0.975]\n",
      "-------------------------------------------------------------------------------\n",
      "Intercept      13.0412     13.288      0.981      0.327     -13.079      39.162\n",
      "loves_count -3.063e-05   1.41e-05     -2.176      0.030   -5.83e-05   -2.97e-06\n",
      "rating          7.3174      3.175      2.305      0.022       1.076      13.558\n",
      "==============================================================================\n",
      "Omnibus:                      361.189   Durbin-Watson:                   1.100\n",
      "Prob(Omnibus):                  0.000   Jarque-Bera (JB):             7403.015\n",
      "Skew:                           3.682   Prob(JB):                         0.00\n",
      "Kurtosis:                      22.204   Cond. No.                     1.15e+06\n",
      "==============================================================================\n",
      "\n",
      "Warnings:\n",
      "[1] Standard Errors assume that the covariance matrix of the errors is correctly specified.\n",
      "[2] The condition number is large, 1.15e+06. This might indicate that there are\n",
      "strong multicollinearity or other numerical problems.\n"
     ]
    }
   ],
   "source": [
    "#create model, fit model and print summary. \n",
    "#the function produces a presentation where the column of P\n",
    "#values of each feature we entered into the model, where P value less than\n",
    "#0.05 are significant.\n",
    "print(res.summary())"
   ]
  },
  {
   "cell_type": "code",
   "execution_count": 143,
   "metadata": {},
   "outputs": [
    {
     "name": "stdout",
     "output_type": "stream",
     "text": [
      "We can conclude that for products with talc, the loves count and rating p values are significant. Sephora is marketing and selling these talc based products successfully\n"
     ]
    }
   ],
   "source": [
    "print('We can conclude that for products with talc, the loves count and rating p values are significant. Sephora is marketing and selling these talc based products successfully')"
   ]
  },
  {
   "cell_type": "code",
   "execution_count": 157,
   "metadata": {},
   "outputs": [
    {
     "name": "stderr",
     "output_type": "stream",
     "text": [
      "/Users/amelia/opt/anaconda3/lib/python3.7/site-packages/ipykernel_launcher.py:2: UserWarning: \n",
      "\n",
      "`distplot` is a deprecated function and will be removed in seaborn v0.14.0.\n",
      "\n",
      "Please adapt your code to use either `displot` (a figure-level function with\n",
      "similar flexibility) or `histplot` (an axes-level function for histograms).\n",
      "\n",
      "For a guide to updating your code to use the new functions, please see\n",
      "https://gist.github.com/mwaskom/de44147ed2974457ad6372750bbe5751\n",
      "\n",
      "  \n"
     ]
    },
    {
     "data": {
      "text/plain": [
       "[]"
      ]
     },
     "execution_count": 157,
     "metadata": {},
     "output_type": "execute_result"
    },
    {
     "data": {
      "image/png": "[encoded data removed]",
      "text/plain": [
       "<Figure size 720x432 with 1 Axes>"
      ]
     },
     "metadata": {
      "needs_background": "light"
     },
     "output_type": "display_data"
    }
   ],
   "source": [
    "#finally correlations\n",
    "plt.figure(figsize=(10,6))\n",
    "sns.distplot(df_withtalc['rating'])\n",
    "plt.plot()"
   ]
  },
  {
   "cell_type": "code",
   "execution_count": 158,
   "metadata": {},
   "outputs": [
    {
     "name": "stderr",
     "output_type": "stream",
     "text": [
      "/Users/amelia/opt/anaconda3/lib/python3.7/site-packages/ipykernel_launcher.py:3: UserWarning: \n",
      "\n",
      "`distplot` is a deprecated function and will be removed in seaborn v0.14.0.\n",
      "\n",
      "Please adapt your code to use either `displot` (a figure-level function with\n",
      "similar flexibility) or `histplot` (an axes-level function for histograms).\n",
      "\n",
      "For a guide to updating your code to use the new functions, please see\n",
      "https://gist.github.com/mwaskom/de44147ed2974457ad6372750bbe5751\n",
      "\n",
      "  This is separate from the ipykernel package so we can avoid doing imports until\n"
     ]
    },
    {
     "data": {
      "text/plain": [
       "[]"
      ]
     },
     "execution_count": 158,
     "metadata": {},
     "output_type": "execute_result"
    },
    {
     "data": {
      "image/png": "[encoded data removed]",
      "text/plain": [
       "<Figure size 720x432 with 1 Axes>"
      ]
     },
     "metadata": {
      "needs_background": "light"
     },
     "output_type": "display_data"
    }
   ],
   "source": [
    "#finally correlations\n",
    "plt.figure(figsize=(10,6))\n",
    "sns.distplot(df_withtalc['reviews'])\n",
    "plt.plot()"
   ]
  },
  {
   "cell_type": "code",
   "execution_count": 165,
   "metadata": {},
   "outputs": [
    {
     "name": "stdout",
     "output_type": "stream",
     "text": [
      "Talc-based products with cheaper prices seem to have higher love counts, suggesting succesful Sephora marketing\n"
     ]
    },
    {
     "data": {
      "image/png": "[encoded data removed]",
      "text/plain": [
       "<Figure size 1440x432 with 1 Axes>"
      ]
     },
     "metadata": {
      "needs_background": "light"
     },
     "output_type": "display_data"
    }
   ],
   "source": [
    "plt.figure(figsize=(20,6))\n",
    "sns.scatterplot(data=df_withtalc, x='loves_count', y='price_usd')\n",
    "plt.plot()\n",
    "print('Talc-based products with cheaper prices seem to have higher love counts, suggesting succesful Sephora marketing')"
   ]
  },
  {
   "cell_type": "code",
   "execution_count": null,
   "metadata": {},
   "outputs": [],
   "source": []
  }
 ],
 "metadata": {
  "kernelspec": {
   "display_name": "Python 3",
   "language": "python",
   "name": "python3"
  },
  "language_info": {
   "codemirror_mode": {
    "name": "ipython",
    "version": 3
   },
   "file_extension": ".py",
   "mimetype": "text/x-python",
   "name": "python",
   "nbconvert_exporter": "python",
   "pygments_lexer": "ipython3",
   "version": "3.7.4"
  }
 },
 "nbformat": 4,
 "nbformat_minor": 2
}
